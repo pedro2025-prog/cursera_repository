{
 "cells": [
  {
   "cell_type": "markdown",
   "id": "8e146811-2eba-4af4-bbee-d9e3a5a083c3",
   "metadata": {
    "tags": []
   },
   "source": [
    "# Data Science Tools and Ecosystem"
   ]
  },
  {
   "cell_type": "markdown",
   "id": "58c58c92-bd1e-4239-b87d-d7e1545e8cb7",
   "metadata": {},
   "source": [
    "In this notebook, Data Science Tools and Ecosystem are summarized."
   ]
  },
  {
   "cell_type": "markdown",
   "id": "e7ec9dc8-e767-40a8-8ee4-f0c086c60b7b",
   "metadata": {},
   "source": [
    "Some of the popular languages that Data Scientists use are:\n",
    "ordered list: \n",
    "1. Python\n",
    "2. R\n",
    "3. Matlab"
   ]
  },
  {
   "cell_type": "markdown",
   "id": "c3dd5830-fbec-4039-86a1-4a6698e35966",
   "metadata": {},
   "source": [
    "Some of the commonly used libraries used by Data Scientists include:\n",
    "ordered list:\n",
    "[Pandas,Numpy, Sklearn, matplotlib, seaborn, scipy]"
   ]
  },
  {
   "cell_type": "markdown",
   "id": "39d05bdb-f1bf-4593-a180-cc2e63674ae9",
   "metadata": {},
   "source": [
    "# Data Science Tools\n",
    "| Python |\n",
    "\n",
    "| R |\n",
    "\n",
    "| Jupyter Notebook |\n"
   ]
  },
  {
   "cell_type": "markdown",
   "id": "4ea6eae2-668b-43aa-aaea-e65439161857",
   "metadata": {},
   "source": [
    "###Below are a few examples of evaluating arithmetic expressions in Python"
   ]
  },
  {
   "cell_type": "code",
   "execution_count": null,
   "id": "f3a93109-f522-4e85-969c-a5ab20b4cd4e",
   "metadata": {},
   "outputs": [],
   "source": []
  }
 ],
 "metadata": {
  "kernelspec": {
   "display_name": "Python",
   "language": "python",
   "name": "conda-env-python-py"
  },
  "language_info": {
   "codemirror_mode": {
    "name": "ipython",
    "version": 3
   },
   "file_extension": ".py",
   "mimetype": "text/x-python",
   "name": "python",
   "nbconvert_exporter": "python",
   "pygments_lexer": "ipython3",
   "version": "3.7.12"
  }
 },
 "nbformat": 4,
 "nbformat_minor": 5
}
